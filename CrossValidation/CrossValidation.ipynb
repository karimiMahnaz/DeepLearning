{
 "cells": [
  {
   "cell_type": "markdown",
   "metadata": {},
   "source": [
    "# Dataset Creation"
   ]
  },
  {
   "cell_type": "code",
   "execution_count": 1,
   "metadata": {},
   "outputs": [],
   "source": [
    "from sklearn.datasets import make_classification\n"
   ]
  },
  {
   "cell_type": "code",
   "execution_count": 2,
   "metadata": {},
   "outputs": [],
   "source": [
    "x, y = make_classification(n_samples=1000, n_features=10, n_informative=8, n_redundant=2, random_state=0)"
   ]
  },
  {
   "cell_type": "code",
   "execution_count": 3,
   "metadata": {},
   "outputs": [
    {
     "data": {
      "text/plain": [
       "(array([ 0.59748132,  2.03702154,  0.63388218,  2.89010949,  1.30628617,\n",
       "        -0.52502013,  0.19653851, -0.58915931, -0.5775684 , -2.07947151]),\n",
       " np.int64(1))"
      ]
     },
     "execution_count": 3,
     "metadata": {},
     "output_type": "execute_result"
    }
   ],
   "source": [
    "x[0],y[0]"
   ]
  },
  {
   "cell_type": "markdown",
   "metadata": {},
   "source": [
    "# Model Definition"
   ]
  },
  {
   "cell_type": "code",
   "execution_count": 4,
   "metadata": {},
   "outputs": [],
   "source": [
    "import tensorflow as tf\n",
    "from tensorflow import keras\n",
    "\n",
    "def create_model():\n",
    "    model = keras.Sequential()\n",
    "    model.add(keras.layers.Dense(units=16, activation='relu'))\n",
    "    model.add(keras.layers.Dense(units=1, activation='sigmoid'))\n",
    "\n",
    "    model.compile(optimizer=tf._optimizers.Adam(), loss=tf.losses.binary_crossentropy, metrics=['accuracy'])\n",
    "\n",
    "    return model\n"
   ]
  },
  {
   "cell_type": "markdown",
   "metadata": {},
   "source": [
    "# Cross Validation"
   ]
  },
  {
   "cell_type": "code",
   "execution_count": 5,
   "metadata": {},
   "outputs": [],
   "source": [
    "n_split = 5\n",
    "\n",
    "from sklearn.model_selection import StratifiedKFold\n",
    "from sklearn.metrics import accuracy_score\n",
    "\n",
    "kf= StratifiedKFold(n_splits=n_split, shuffle=True)"
   ]
  },
  {
   "cell_type": "code",
   "execution_count": 6,
   "metadata": {},
   "outputs": [
    {
     "name": "stdout",
     "output_type": "stream",
     "text": [
      "Epoch 1/20\n",
      "13/13 - 0s - 31ms/step - accuracy: 0.3038 - loss: 1.0380 - val_accuracy: 0.2950 - val_loss: 0.9726\n",
      "Epoch 2/20\n",
      "13/13 - 0s - 3ms/step - accuracy: 0.3525 - loss: 0.8928 - val_accuracy: 0.3900 - val_loss: 0.8413\n",
      "Epoch 3/20\n",
      "13/13 - 0s - 3ms/step - accuracy: 0.4675 - loss: 0.7746 - val_accuracy: 0.5000 - val_loss: 0.7385\n",
      "Epoch 4/20\n",
      "13/13 - 0s - 3ms/step - accuracy: 0.5537 - loss: 0.6871 - val_accuracy: 0.5850 - val_loss: 0.6563\n",
      "Epoch 5/20\n",
      "13/13 - 0s - 3ms/step - accuracy: 0.6425 - loss: 0.6180 - val_accuracy: 0.6700 - val_loss: 0.5919\n",
      "Epoch 6/20\n",
      "13/13 - 0s - 3ms/step - accuracy: 0.7125 - loss: 0.5631 - val_accuracy: 0.7450 - val_loss: 0.5391\n",
      "Epoch 7/20\n",
      "13/13 - 0s - 3ms/step - accuracy: 0.7713 - loss: 0.5182 - val_accuracy: 0.8100 - val_loss: 0.4967\n",
      "Epoch 8/20\n",
      "13/13 - 0s - 3ms/step - accuracy: 0.8112 - loss: 0.4816 - val_accuracy: 0.8400 - val_loss: 0.4601\n",
      "Epoch 9/20\n",
      "13/13 - 0s - 3ms/step - accuracy: 0.8500 - loss: 0.4493 - val_accuracy: 0.8600 - val_loss: 0.4277\n",
      "Epoch 10/20\n",
      "13/13 - 0s - 3ms/step - accuracy: 0.8625 - loss: 0.4222 - val_accuracy: 0.8700 - val_loss: 0.4008\n",
      "Epoch 11/20\n",
      "13/13 - 0s - 3ms/step - accuracy: 0.8725 - loss: 0.3990 - val_accuracy: 0.8650 - val_loss: 0.3774\n",
      "Epoch 12/20\n",
      "13/13 - 0s - 3ms/step - accuracy: 0.8775 - loss: 0.3788 - val_accuracy: 0.8800 - val_loss: 0.3567\n",
      "Epoch 13/20\n",
      "13/13 - 0s - 3ms/step - accuracy: 0.8838 - loss: 0.3613 - val_accuracy: 0.8900 - val_loss: 0.3383\n",
      "Epoch 14/20\n",
      "13/13 - 0s - 3ms/step - accuracy: 0.8900 - loss: 0.3457 - val_accuracy: 0.9000 - val_loss: 0.3218\n",
      "Epoch 15/20\n",
      "13/13 - 0s - 3ms/step - accuracy: 0.8938 - loss: 0.3313 - val_accuracy: 0.9050 - val_loss: 0.3084\n",
      "Epoch 16/20\n",
      "13/13 - 0s - 3ms/step - accuracy: 0.8975 - loss: 0.3191 - val_accuracy: 0.9050 - val_loss: 0.2958\n",
      "Epoch 17/20\n",
      "13/13 - 0s - 3ms/step - accuracy: 0.9000 - loss: 0.3082 - val_accuracy: 0.9000 - val_loss: 0.2850\n",
      "Epoch 18/20\n",
      "13/13 - 0s - 3ms/step - accuracy: 0.9038 - loss: 0.2978 - val_accuracy: 0.9050 - val_loss: 0.2737\n",
      "Epoch 19/20\n",
      "13/13 - 0s - 3ms/step - accuracy: 0.9062 - loss: 0.2888 - val_accuracy: 0.9050 - val_loss: 0.2638\n",
      "Epoch 20/20\n",
      "13/13 - 0s - 3ms/step - accuracy: 0.9062 - loss: 0.2804 - val_accuracy: 0.9100 - val_loss: 0.2544\n",
      "\u001b[1m7/7\u001b[0m \u001b[32m━━━━━━━━━━━━━━━━━━━━\u001b[0m\u001b[37m\u001b[0m \u001b[1m0s\u001b[0m 3ms/step \n",
      "Epoch 1/20\n",
      "13/13 - 0s - 30ms/step - accuracy: 0.5225 - loss: 0.8737 - val_accuracy: 0.5500 - val_loss: 0.8313\n",
      "Epoch 2/20\n",
      "13/13 - 0s - 3ms/step - accuracy: 0.5913 - loss: 0.7602 - val_accuracy: 0.6150 - val_loss: 0.7441\n",
      "Epoch 3/20\n",
      "13/13 - 0s - 3ms/step - accuracy: 0.6550 - loss: 0.6732 - val_accuracy: 0.6700 - val_loss: 0.6751\n",
      "Epoch 4/20\n",
      "13/13 - 0s - 3ms/step - accuracy: 0.7063 - loss: 0.6031 - val_accuracy: 0.7350 - val_loss: 0.6181\n",
      "Epoch 5/20\n",
      "13/13 - 0s - 3ms/step - accuracy: 0.7600 - loss: 0.5472 - val_accuracy: 0.8050 - val_loss: 0.5715\n",
      "Epoch 6/20\n",
      "13/13 - 0s - 3ms/step - accuracy: 0.8050 - loss: 0.5012 - val_accuracy: 0.8300 - val_loss: 0.5314\n",
      "Epoch 7/20\n",
      "13/13 - 0s - 3ms/step - accuracy: 0.8300 - loss: 0.4612 - val_accuracy: 0.8450 - val_loss: 0.4985\n",
      "Epoch 8/20\n",
      "13/13 - 0s - 3ms/step - accuracy: 0.8525 - loss: 0.4284 - val_accuracy: 0.8600 - val_loss: 0.4696\n",
      "Epoch 9/20\n",
      "13/13 - 0s - 3ms/step - accuracy: 0.8662 - loss: 0.4000 - val_accuracy: 0.8800 - val_loss: 0.4441\n",
      "Epoch 10/20\n",
      "13/13 - 0s - 3ms/step - accuracy: 0.8813 - loss: 0.3751 - val_accuracy: 0.8750 - val_loss: 0.4213\n",
      "Epoch 11/20\n",
      "13/13 - 0s - 3ms/step - accuracy: 0.8938 - loss: 0.3541 - val_accuracy: 0.8900 - val_loss: 0.4010\n",
      "Epoch 12/20\n",
      "13/13 - 0s - 3ms/step - accuracy: 0.9038 - loss: 0.3356 - val_accuracy: 0.8850 - val_loss: 0.3836\n",
      "Epoch 13/20\n",
      "13/13 - 0s - 3ms/step - accuracy: 0.9087 - loss: 0.3196 - val_accuracy: 0.8800 - val_loss: 0.3681\n",
      "Epoch 14/20\n",
      "13/13 - 0s - 3ms/step - accuracy: 0.9100 - loss: 0.3055 - val_accuracy: 0.8800 - val_loss: 0.3541\n",
      "Epoch 15/20\n",
      "13/13 - 0s - 3ms/step - accuracy: 0.9125 - loss: 0.2936 - val_accuracy: 0.8800 - val_loss: 0.3414\n",
      "Epoch 16/20\n",
      "13/13 - 0s - 3ms/step - accuracy: 0.9175 - loss: 0.2824 - val_accuracy: 0.8850 - val_loss: 0.3301\n",
      "Epoch 17/20\n",
      "13/13 - 0s - 3ms/step - accuracy: 0.9187 - loss: 0.2729 - val_accuracy: 0.8900 - val_loss: 0.3200\n",
      "Epoch 18/20\n",
      "13/13 - 0s - 3ms/step - accuracy: 0.9175 - loss: 0.2643 - val_accuracy: 0.8950 - val_loss: 0.3107\n",
      "Epoch 19/20\n",
      "13/13 - 0s - 3ms/step - accuracy: 0.9200 - loss: 0.2563 - val_accuracy: 0.8950 - val_loss: 0.3025\n",
      "Epoch 20/20\n",
      "13/13 - 0s - 3ms/step - accuracy: 0.9225 - loss: 0.2492 - val_accuracy: 0.8900 - val_loss: 0.2950\n",
      "\u001b[1m7/7\u001b[0m \u001b[32m━━━━━━━━━━━━━━━━━━━━\u001b[0m\u001b[37m\u001b[0m \u001b[1m0s\u001b[0m 3ms/step \n",
      "Epoch 1/20\n",
      "13/13 - 0s - 35ms/step - accuracy: 0.6225 - loss: 0.6777 - val_accuracy: 0.6400 - val_loss: 0.6425\n",
      "Epoch 2/20\n",
      "13/13 - 0s - 3ms/step - accuracy: 0.7000 - loss: 0.5766 - val_accuracy: 0.7250 - val_loss: 0.5502\n",
      "Epoch 3/20\n",
      "13/13 - 0s - 3ms/step - accuracy: 0.7650 - loss: 0.5023 - val_accuracy: 0.7900 - val_loss: 0.4840\n",
      "Epoch 4/20\n",
      "13/13 - 0s - 4ms/step - accuracy: 0.8213 - loss: 0.4479 - val_accuracy: 0.8250 - val_loss: 0.4361\n",
      "Epoch 5/20\n",
      "13/13 - 0s - 4ms/step - accuracy: 0.8325 - loss: 0.4043 - val_accuracy: 0.8550 - val_loss: 0.4019\n",
      "Epoch 6/20\n",
      "13/13 - 0s - 3ms/step - accuracy: 0.8500 - loss: 0.3732 - val_accuracy: 0.8550 - val_loss: 0.3746\n",
      "Epoch 7/20\n",
      "13/13 - 0s - 3ms/step - accuracy: 0.8712 - loss: 0.3472 - val_accuracy: 0.8600 - val_loss: 0.3528\n",
      "Epoch 8/20\n",
      "13/13 - 0s - 3ms/step - accuracy: 0.8838 - loss: 0.3271 - val_accuracy: 0.8750 - val_loss: 0.3355\n",
      "Epoch 9/20\n",
      "13/13 - 0s - 3ms/step - accuracy: 0.8938 - loss: 0.3096 - val_accuracy: 0.8800 - val_loss: 0.3209\n",
      "Epoch 10/20\n",
      "13/13 - 0s - 3ms/step - accuracy: 0.8950 - loss: 0.2956 - val_accuracy: 0.8900 - val_loss: 0.3084\n",
      "Epoch 11/20\n",
      "13/13 - 0s - 3ms/step - accuracy: 0.9038 - loss: 0.2832 - val_accuracy: 0.9000 - val_loss: 0.2973\n",
      "Epoch 12/20\n",
      "13/13 - 0s - 4ms/step - accuracy: 0.9087 - loss: 0.2726 - val_accuracy: 0.9050 - val_loss: 0.2872\n",
      "Epoch 13/20\n",
      "13/13 - 0s - 5ms/step - accuracy: 0.9100 - loss: 0.2639 - val_accuracy: 0.9050 - val_loss: 0.2781\n",
      "Epoch 14/20\n",
      "13/13 - 0s - 3ms/step - accuracy: 0.9175 - loss: 0.2552 - val_accuracy: 0.9050 - val_loss: 0.2707\n",
      "Epoch 15/20\n",
      "13/13 - 0s - 3ms/step - accuracy: 0.9200 - loss: 0.2481 - val_accuracy: 0.9000 - val_loss: 0.2638\n",
      "Epoch 16/20\n",
      "13/13 - 0s - 3ms/step - accuracy: 0.9225 - loss: 0.2417 - val_accuracy: 0.9000 - val_loss: 0.2573\n",
      "Epoch 17/20\n",
      "13/13 - 0s - 3ms/step - accuracy: 0.9225 - loss: 0.2356 - val_accuracy: 0.9100 - val_loss: 0.2516\n",
      "Epoch 18/20\n",
      "13/13 - 0s - 3ms/step - accuracy: 0.9250 - loss: 0.2303 - val_accuracy: 0.9100 - val_loss: 0.2471\n",
      "Epoch 19/20\n",
      "13/13 - 0s - 3ms/step - accuracy: 0.9287 - loss: 0.2257 - val_accuracy: 0.9250 - val_loss: 0.2419\n",
      "Epoch 20/20\n",
      "13/13 - 0s - 3ms/step - accuracy: 0.9300 - loss: 0.2210 - val_accuracy: 0.9250 - val_loss: 0.2376\n",
      "WARNING:tensorflow:5 out of the last 15 calls to <function TensorFlowTrainer.make_predict_function.<locals>.one_step_on_data_distributed at 0x300a95ee0> triggered tf.function retracing. Tracing is expensive and the excessive number of tracings could be due to (1) creating @tf.function repeatedly in a loop, (2) passing tensors with different shapes, (3) passing Python objects instead of tensors. For (1), please define your @tf.function outside of the loop. For (2), @tf.function has reduce_retracing=True option that can avoid unnecessary retracing. For (3), please refer to https://www.tensorflow.org/guide/function#controlling_retracing and https://www.tensorflow.org/api_docs/python/tf/function for  more details.\n",
      "\u001b[1m7/7\u001b[0m \u001b[32m━━━━━━━━━━━━━━━━━━━━\u001b[0m\u001b[37m\u001b[0m \u001b[1m0s\u001b[0m 3ms/step \n",
      "Epoch 1/20\n",
      "13/13 - 0s - 30ms/step - accuracy: 0.7237 - loss: 0.5374 - val_accuracy: 0.7650 - val_loss: 0.4951\n",
      "Epoch 2/20\n",
      "13/13 - 0s - 3ms/step - accuracy: 0.7625 - loss: 0.4837 - val_accuracy: 0.7650 - val_loss: 0.4531\n",
      "Epoch 3/20\n",
      "13/13 - 0s - 3ms/step - accuracy: 0.7975 - loss: 0.4405 - val_accuracy: 0.7900 - val_loss: 0.4202\n",
      "Epoch 4/20\n",
      "13/13 - 0s - 3ms/step - accuracy: 0.8275 - loss: 0.4063 - val_accuracy: 0.8100 - val_loss: 0.3919\n",
      "Epoch 5/20\n",
      "13/13 - 0s - 3ms/step - accuracy: 0.8475 - loss: 0.3775 - val_accuracy: 0.8250 - val_loss: 0.3686\n",
      "Epoch 6/20\n",
      "13/13 - 0s - 5ms/step - accuracy: 0.8587 - loss: 0.3532 - val_accuracy: 0.8500 - val_loss: 0.3486\n",
      "Epoch 7/20\n",
      "13/13 - 0s - 3ms/step - accuracy: 0.8775 - loss: 0.3324 - val_accuracy: 0.8750 - val_loss: 0.3314\n",
      "Epoch 8/20\n",
      "13/13 - 0s - 3ms/step - accuracy: 0.8863 - loss: 0.3140 - val_accuracy: 0.8900 - val_loss: 0.3161\n",
      "Epoch 9/20\n",
      "13/13 - 0s - 3ms/step - accuracy: 0.8963 - loss: 0.2980 - val_accuracy: 0.8900 - val_loss: 0.3030\n",
      "Epoch 10/20\n",
      "13/13 - 0s - 3ms/step - accuracy: 0.9075 - loss: 0.2837 - val_accuracy: 0.8900 - val_loss: 0.2918\n",
      "Epoch 11/20\n",
      "13/13 - 0s - 3ms/step - accuracy: 0.9112 - loss: 0.2712 - val_accuracy: 0.9000 - val_loss: 0.2817\n",
      "Epoch 12/20\n",
      "13/13 - 0s - 3ms/step - accuracy: 0.9175 - loss: 0.2602 - val_accuracy: 0.9150 - val_loss: 0.2717\n",
      "Epoch 13/20\n",
      "13/13 - 0s - 3ms/step - accuracy: 0.9225 - loss: 0.2496 - val_accuracy: 0.9150 - val_loss: 0.2633\n",
      "Epoch 14/20\n",
      "13/13 - 0s - 3ms/step - accuracy: 0.9250 - loss: 0.2405 - val_accuracy: 0.9150 - val_loss: 0.2552\n",
      "Epoch 15/20\n",
      "13/13 - 0s - 3ms/step - accuracy: 0.9300 - loss: 0.2326 - val_accuracy: 0.9150 - val_loss: 0.2477\n",
      "Epoch 16/20\n",
      "13/13 - 0s - 3ms/step - accuracy: 0.9325 - loss: 0.2249 - val_accuracy: 0.9150 - val_loss: 0.2422\n",
      "Epoch 17/20\n",
      "13/13 - 0s - 3ms/step - accuracy: 0.9325 - loss: 0.2181 - val_accuracy: 0.9150 - val_loss: 0.2373\n",
      "Epoch 18/20\n",
      "13/13 - 0s - 3ms/step - accuracy: 0.9312 - loss: 0.2119 - val_accuracy: 0.9150 - val_loss: 0.2314\n",
      "Epoch 19/20\n",
      "13/13 - 0s - 3ms/step - accuracy: 0.9350 - loss: 0.2060 - val_accuracy: 0.9300 - val_loss: 0.2271\n",
      "Epoch 20/20\n",
      "13/13 - 0s - 3ms/step - accuracy: 0.9350 - loss: 0.2008 - val_accuracy: 0.9300 - val_loss: 0.2230\n",
      "WARNING:tensorflow:5 out of the last 15 calls to <function TensorFlowTrainer.make_predict_function.<locals>.one_step_on_data_distributed at 0x30037e0c0> triggered tf.function retracing. Tracing is expensive and the excessive number of tracings could be due to (1) creating @tf.function repeatedly in a loop, (2) passing tensors with different shapes, (3) passing Python objects instead of tensors. For (1), please define your @tf.function outside of the loop. For (2), @tf.function has reduce_retracing=True option that can avoid unnecessary retracing. For (3), please refer to https://www.tensorflow.org/guide/function#controlling_retracing and https://www.tensorflow.org/api_docs/python/tf/function for  more details.\n",
      "\u001b[1m7/7\u001b[0m \u001b[32m━━━━━━━━━━━━━━━━━━━━\u001b[0m\u001b[37m\u001b[0m \u001b[1m0s\u001b[0m 3ms/step \n",
      "Epoch 1/20\n",
      "13/13 - 0s - 30ms/step - accuracy: 0.5587 - loss: 1.1635 - val_accuracy: 0.5350 - val_loss: 1.1037\n",
      "Epoch 2/20\n",
      "13/13 - 0s - 3ms/step - accuracy: 0.5913 - loss: 0.9959 - val_accuracy: 0.5750 - val_loss: 0.9629\n",
      "Epoch 3/20\n",
      "13/13 - 0s - 3ms/step - accuracy: 0.6200 - loss: 0.8488 - val_accuracy: 0.5950 - val_loss: 0.8442\n",
      "Epoch 4/20\n",
      "13/13 - 0s - 3ms/step - accuracy: 0.6562 - loss: 0.7269 - val_accuracy: 0.6350 - val_loss: 0.7431\n",
      "Epoch 5/20\n",
      "13/13 - 0s - 3ms/step - accuracy: 0.6925 - loss: 0.6290 - val_accuracy: 0.6850 - val_loss: 0.6620\n",
      "Epoch 6/20\n",
      "13/13 - 0s - 4ms/step - accuracy: 0.7300 - loss: 0.5533 - val_accuracy: 0.7100 - val_loss: 0.5954\n",
      "Epoch 7/20\n",
      "13/13 - 0s - 4ms/step - accuracy: 0.7650 - loss: 0.4932 - val_accuracy: 0.7350 - val_loss: 0.5421\n",
      "Epoch 8/20\n",
      "13/13 - 0s - 3ms/step - accuracy: 0.8037 - loss: 0.4468 - val_accuracy: 0.7650 - val_loss: 0.4998\n",
      "Epoch 9/20\n",
      "13/13 - 0s - 3ms/step - accuracy: 0.8313 - loss: 0.4109 - val_accuracy: 0.7850 - val_loss: 0.4652\n",
      "Epoch 10/20\n",
      "13/13 - 0s - 3ms/step - accuracy: 0.8550 - loss: 0.3828 - val_accuracy: 0.8050 - val_loss: 0.4354\n",
      "Epoch 11/20\n",
      "13/13 - 0s - 3ms/step - accuracy: 0.8687 - loss: 0.3587 - val_accuracy: 0.8500 - val_loss: 0.4116\n",
      "Epoch 12/20\n",
      "13/13 - 0s - 3ms/step - accuracy: 0.8737 - loss: 0.3401 - val_accuracy: 0.8800 - val_loss: 0.3915\n",
      "Epoch 13/20\n",
      "13/13 - 0s - 3ms/step - accuracy: 0.8825 - loss: 0.3247 - val_accuracy: 0.8800 - val_loss: 0.3745\n",
      "Epoch 14/20\n",
      "13/13 - 0s - 3ms/step - accuracy: 0.8938 - loss: 0.3112 - val_accuracy: 0.8750 - val_loss: 0.3601\n",
      "Epoch 15/20\n",
      "13/13 - 0s - 3ms/step - accuracy: 0.8950 - loss: 0.2999 - val_accuracy: 0.8750 - val_loss: 0.3470\n",
      "Epoch 16/20\n",
      "13/13 - 0s - 4ms/step - accuracy: 0.8988 - loss: 0.2900 - val_accuracy: 0.8750 - val_loss: 0.3363\n",
      "Epoch 17/20\n",
      "13/13 - 0s - 3ms/step - accuracy: 0.9025 - loss: 0.2811 - val_accuracy: 0.8800 - val_loss: 0.3267\n",
      "Epoch 18/20\n",
      "13/13 - 0s - 3ms/step - accuracy: 0.9062 - loss: 0.2731 - val_accuracy: 0.8750 - val_loss: 0.3183\n",
      "Epoch 19/20\n",
      "13/13 - 0s - 3ms/step - accuracy: 0.9100 - loss: 0.2658 - val_accuracy: 0.8800 - val_loss: 0.3104\n",
      "Epoch 20/20\n",
      "13/13 - 0s - 3ms/step - accuracy: 0.9112 - loss: 0.2592 - val_accuracy: 0.8800 - val_loss: 0.3036\n",
      "\u001b[1m7/7\u001b[0m \u001b[32m━━━━━━━━━━━━━━━━━━━━\u001b[0m\u001b[37m\u001b[0m \u001b[1m0s\u001b[0m 3ms/step \n"
     ]
    }
   ],
   "source": [
    "acc_total = []\n",
    "\n",
    "for train_index, validation_index in kf.split(x,y):\n",
    "   x_train = x[train_index]\n",
    "   y_train = y[train_index]\n",
    "\n",
    "   x_validation = x[validation_index]\n",
    "   y_validation = y[validation_index]\n",
    "\n",
    "   #model\n",
    "\n",
    "   model = create_model()\n",
    "\n",
    "   model.fit(x_train, y_train, epochs=20, batch_size=64, validation_data=(x_validation, y_validation), verbose=2)\n",
    "\n",
    "\n",
    "   # prediction\n",
    "\n",
    "   y_pred = model.predict(x_validation)\n",
    "   y_pred = (y_pred > .5).astype(\"int32\")\n",
    "\n",
    "   # accuracy\n",
    "\n",
    "   acc = accuracy_score(y_true=y_validation, y_pred=y_pred)\n",
    "   acc_total.append(acc)"
   ]
  },
  {
   "cell_type": "code",
   "execution_count": 7,
   "metadata": {},
   "outputs": [
    {
     "data": {
      "text/plain": [
       "[0.91, 0.89, 0.925, 0.93, 0.88]"
      ]
     },
     "execution_count": 7,
     "metadata": {},
     "output_type": "execute_result"
    }
   ],
   "source": [
    "acc_total"
   ]
  },
  {
   "cell_type": "code",
   "execution_count": 8,
   "metadata": {},
   "outputs": [
    {
     "data": {
      "text/plain": [
       "np.float64(0.907)"
      ]
     },
     "execution_count": 8,
     "metadata": {},
     "output_type": "execute_result"
    }
   ],
   "source": [
    "import numpy as np\n",
    "np.mean(acc_total)"
   ]
  },
  {
   "cell_type": "markdown",
   "metadata": {},
   "source": []
  }
 ],
 "metadata": {
  "kernelspec": {
   "display_name": "venv3.12",
   "language": "python",
   "name": "python3"
  },
  "language_info": {
   "codemirror_mode": {
    "name": "ipython",
    "version": 3
   },
   "file_extension": ".py",
   "mimetype": "text/x-python",
   "name": "python",
   "nbconvert_exporter": "python",
   "pygments_lexer": "ipython3",
   "version": "3.12.5"
  }
 },
 "nbformat": 4,
 "nbformat_minor": 2
}
